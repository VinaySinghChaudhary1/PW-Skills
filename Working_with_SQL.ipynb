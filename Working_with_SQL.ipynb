{
 "cells": [
  {
   "cell_type": "markdown",
   "id": "f8eaec0f-9eb8-49a3-8177-b5849fad57d8",
   "metadata": {},
   "source": [
    "Q1. What is a database? Differentiate between SQL and NoSQL databases. "
   ]
  },
  {
   "cell_type": "markdown",
   "id": "a76a6486-61b6-425a-aaaa-a41272a92a7b",
   "metadata": {},
   "source": [
    "A database is a collection of structured data organized for efficient retrieval and processing. SQL (Structured Query Language) and NoSQL databases differ in their data models and how they are stored. \n",
    "SQL databases, such as MySQL and PostgreSQL, use a structured, tabular format, suitable for relational data and transactions. NoSQL databases, such as MongoDB and Cassandra, use a simple, schema-less approach, handling unstructured or partially structured data with horizontal scalability SQL databases are ACID-compliant to ensure data integrity , whereas distributed NoSQL databases -The choice of environments that prioritize flexibility, scalability, and ultimately stability depends on the specific needs and characteristics of the data and application.\n"
   ]
  },
  {
   "cell_type": "markdown",
   "id": "938b1e3d-24ba-4438-9e5d-8b6961dd3f2c",
   "metadata": {},
   "source": [
    "Q2. What is DDL? Explain why CREATE, DROP, ALTER, and TRUNCATE are used with an example."
   ]
  },
  {
   "cell_type": "markdown",
   "id": "0903d3d2-f4a1-436f-90f0-e4fd7637ea05",
   "metadata": {},
   "source": [
    "DDL (Data Definition Language) is a subset of SQL used for defining and managing database structures. \n",
    "\n",
    "CREATE: Establishes new database objects.\n",
    "  Example: `CREATE TABLE Employees (ID INT PRIMARY KEY, Name VARCHAR(50), Salary INT);`\n",
    "  \n",
    "DROP: Deletes existing objects.\n",
    "  Example: `DROP TABLE Employees;`\n",
    "  \n",
    "ALTER: Modifies existing object structures.\n",
    "  Example: `ALTER TABLE Employees ADD COLUMN Department VARCHAR(30);`\n",
    "  \n",
    "TRUNCATE: Removes all records from a table while keeping the structure.\n",
    "  Example: `TRUNCATE TABLE Employees;`\n",
    "\n",
    "DDL ensures efficient organization, modification, and deletion of database elements."
   ]
  },
  {
   "cell_type": "markdown",
   "id": "5df7c982-ad3b-436d-a2c0-3cebc84e0aaa",
   "metadata": {},
   "source": [
    "Q3. What is DML? Explain INSERT, UPDATE, and DELETE with an examp"
   ]
  },
  {
   "cell_type": "markdown",
   "id": "de55b39e-6152-41c6-8dad-6daa3c9f8c43",
   "metadata": {},
   "source": [
    "Data Manipulation Language (DML): DML is a subset of SQL used for managing data within a database. Key commands include:\n",
    "\n",
    "INSERT: Adds new records to a table.\n",
    "  INSERT INTO Employees (ID, Name, Salary) VALUES (1, 'John Doe', 50000);\n",
    "  \n",
    "\n",
    "UPDATE: Modifies existing records in a table.\n",
    "  UPDATE Employees SET Salary = 55000 WHERE ID = 1;\n",
    "\n",
    "DELETE: Removes records from a table.\n",
    "  DELETE FROM Employees WHERE ID = 1;\n",
    "\n",
    "These commands facilitate the manipulation and maintenance of data within a database."
   ]
  },
  {
   "cell_type": "markdown",
   "id": "e421b310-ef38-4b6a-9097-39527b9bcbcf",
   "metadata": {},
   "source": [
    "Q4. What is DQL? Explain SELECT with an example. "
   ]
  },
  {
   "cell_type": "markdown",
   "id": "ac4f8048-3e46-41c5-b57b-b5116dbd4d3b",
   "metadata": {},
   "source": [
    "Data Query Language (DQL): \n",
    "DQL is a subset of SQL used for data retrieval. The primary command is SELECT, which extracts information from a database.\n",
    "\n",
    "Example:\n",
    "\n",
    "SELECT FirstName, LastName, Age FROM Employees WHERE Department='IT' AND Salary > 50000;\n",
    "\n",
    "In this example, the SELECT statement retrieves the first name, last name, and age of employees from the \"Employees\" table, filtering results for those in the 'IT' department with a salary exceeding $50,000. DQL allows precise data extraction based on specified conditions and columns."
   ]
  },
  {
   "cell_type": "markdown",
   "id": "19a20e51-7237-48be-9ef7-262bf4ebd1f9",
   "metadata": {},
   "source": [
    "Q5. Explain Primary Key and Foreign Key."
   ]
  },
  {
   "cell_type": "markdown",
   "id": "454a728f-604f-455b-b5e9-e385d51cf618",
   "metadata": {},
   "source": [
    "Primary Key: A Primary Key is a unique identifier for each record in a database table. It ensures data integrity by preventing duplicate and null values, serving as a reference for relationships with other tables.\n",
    "\n",
    "Foreign Key: A Foreign Key establishes a link between tables by referencing the Primary Key of another table. It enforces referential integrity, ensuring that values in the Foreign Key column correspond to existing values in the Primary Key column of the related table, facilitating the creation of relationships between different tables in a relational database."
   ]
  },
  {
   "cell_type": "markdown",
   "id": "0e924bb2-7505-4545-95d3-89887de499e1",
   "metadata": {},
   "source": [
    "Q6. Write a python code to connect MySQL to python. Explain the cursor() and execute() method. Q7. Give the order of execution of SQL clauses in an SQL query."
   ]
  },
  {
   "cell_type": "markdown",
   "id": "9de6b1b8-d211-41b8-aaf1-ac3958e6e1c2",
   "metadata": {},
   "source": [
    "Python code to connect MySQL:\n",
    "\n",
    "import mysql.connector\n",
    "connection = mysql.connector.connect(user='username', password='password', host='localhost', database='dbname')\n",
    "cursor = connection.cursor()\n",
    "cursor.execute(\"SELECT * FROM Employees\")\n",
    "results = cursor.fetchall()\n",
    "connection.close()\n",
    "\n",
    "In this code, `cursor()` creates a cursor object to interact with the database, while `execute()` sends an SQL query for execution. The fetched results are obtained using `fetchall()`, and the connection is closed after data retrieval."
   ]
  },
  {
   "cell_type": "markdown",
   "id": "99e98488-c60c-498a-a561-b9fa3bbcf77f",
   "metadata": {},
   "source": [
    "Q7. Give the order of execution of SQL clauses in an SQL query. "
   ]
  },
  {
   "cell_type": "markdown",
   "id": "a576aa43-da7e-497b-befe-cb459693049f",
   "metadata": {},
   "source": [
    "Order of SQL query execution:\n",
    "1. FROM\n",
    "2. WHERE\n",
    "3. GROUP BY\n",
    "4. HAVING\n",
    "5. SELECT\n",
    "6. DISTINCT\n",
    "7. ORDER BY\n",
    "In an SQL query, these clauses are executed in the specified sequence for data retrieval and processing."
   ]
  }
 ],
 "metadata": {
  "kernelspec": {
   "display_name": "Python 3 (ipykernel)",
   "language": "python",
   "name": "python3"
  },
  "language_info": {
   "codemirror_mode": {
    "name": "ipython",
    "version": 3
   },
   "file_extension": ".py",
   "mimetype": "text/x-python",
   "name": "python",
   "nbconvert_exporter": "python",
   "pygments_lexer": "ipython3",
   "version": "3.10.8"
  }
 },
 "nbformat": 4,
 "nbformat_minor": 5
}
